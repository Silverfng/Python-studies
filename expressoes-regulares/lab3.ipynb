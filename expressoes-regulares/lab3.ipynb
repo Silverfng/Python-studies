{
 "cells": [
  {
   "cell_type": "code",
   "execution_count": 1,
   "id": "initial_id",
   "metadata": {
    "collapsed": true,
    "ExecuteTime": {
     "end_time": "2023-12-17T18:24:18.039609500Z",
     "start_time": "2023-12-17T18:24:18.023611100Z"
    }
   },
   "outputs": [],
   "source": [
    "import re"
   ]
  },
  {
   "cell_type": "code",
   "execution_count": 2,
   "outputs": [],
   "source": [
    "texto = 'Meu e-mail é exemplo@gmail.com e você pode me contatar em outro_email@yahoo.com'"
   ],
   "metadata": {
    "collapsed": false,
    "ExecuteTime": {
     "end_time": "2023-12-17T18:25:30.096475500Z",
     "start_time": "2023-12-17T18:25:30.029459200Z"
    }
   },
   "id": "b97e8177e18b3535"
  },
  {
   "cell_type": "code",
   "execution_count": 3,
   "outputs": [],
   "source": [
    "resultado = len(re.findall(\"@\", texto))"
   ],
   "metadata": {
    "collapsed": false,
    "ExecuteTime": {
     "end_time": "2023-12-17T18:25:48.585685400Z",
     "start_time": "2023-12-17T18:25:48.534178700Z"
    }
   },
   "id": "91e619ae94990838"
  },
  {
   "cell_type": "code",
   "execution_count": 4,
   "outputs": [
    {
     "name": "stdout",
     "output_type": "stream",
     "text": [
      "O caractere '@' aparecer 2 Vezes no texto. \n"
     ]
    }
   ],
   "source": [
    "print(\"O caractere '@' apareceu\", resultado, 'Vezes no texto. ')"
   ],
   "metadata": {
    "collapsed": false,
    "ExecuteTime": {
     "end_time": "2023-12-17T18:26:18.814024600Z",
     "start_time": "2023-12-17T18:26:18.720003800Z"
    }
   },
   "id": "29333373135dfdcd"
  },
  {
   "cell_type": "code",
   "execution_count": 5,
   "outputs": [],
   "source": [
    "resultado = re.findall(r'você (\\w+)', texto)"
   ],
   "metadata": {
    "collapsed": false,
    "ExecuteTime": {
     "end_time": "2023-12-17T18:29:42.080009400Z",
     "start_time": "2023-12-17T18:29:42.073501600Z"
    }
   },
   "id": "f4ea46e026cb4489"
  },
  {
   "cell_type": "code",
   "execution_count": 6,
   "outputs": [
    {
     "name": "stdout",
     "output_type": "stream",
     "text": [
      "['pode']\n"
     ]
    }
   ],
   "source": [
    "print(resultado)"
   ],
   "metadata": {
    "collapsed": false,
    "ExecuteTime": {
     "end_time": "2023-12-17T18:29:49.165488400Z",
     "start_time": "2023-12-17T18:29:49.157483500Z"
    }
   },
   "id": "5d55d0d838621da"
  },
  {
   "cell_type": "code",
   "execution_count": 10,
   "outputs": [],
   "source": [
    "text = 'O aluno estava incrivelmente perdido, mas encontrou a DSA e rapidamente começou a aprender'"
   ],
   "metadata": {
    "collapsed": false,
    "ExecuteTime": {
     "end_time": "2023-12-17T18:35:40.643251Z",
     "start_time": "2023-12-17T18:35:40.638248Z"
    }
   },
   "id": "7de9b2b469dc0528"
  },
  {
   "cell_type": "code",
   "execution_count": 11,
   "outputs": [
    {
     "name": "stdout",
     "output_type": "stream",
     "text": [
      "15-28: incrivelmente\n",
      "60-71: rapidamente\n"
     ]
    }
   ],
   "source": [
    "for m in re.finditer(r'(\\w+mente\\b)', text):\n",
    "    print('%02d-%-2d: %s' % (m.start(), m.end(), m.group()))"
   ],
   "metadata": {
    "collapsed": false,
    "ExecuteTime": {
     "end_time": "2023-12-17T18:35:45.210249Z",
     "start_time": "2023-12-17T18:35:45.203739900Z"
    }
   },
   "id": "a0447eae45e12a9f"
  },
  {
   "cell_type": "code",
   "execution_count": null,
   "outputs": [],
   "source": [],
   "metadata": {
    "collapsed": false
   },
   "id": "af3913dc2aa49977"
  }
 ],
 "metadata": {
  "kernelspec": {
   "display_name": "Python 3",
   "language": "python",
   "name": "python3"
  },
  "language_info": {
   "codemirror_mode": {
    "name": "ipython",
    "version": 2
   },
   "file_extension": ".py",
   "mimetype": "text/x-python",
   "name": "python",
   "nbconvert_exporter": "python",
   "pygments_lexer": "ipython2",
   "version": "2.7.6"
  }
 },
 "nbformat": 4,
 "nbformat_minor": 5
}
