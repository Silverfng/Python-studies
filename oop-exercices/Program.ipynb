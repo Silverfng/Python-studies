{
 "cells": [
  {
   "cell_type": "raw",
   "source": [
    "class Smartphone():\n"
   ],
   "metadata": {
    "collapsed": false
   },
   "id": "e7d2788261510322"
  },
  {
   "cell_type": "code",
   "execution_count": 18,
   "outputs": [],
   "source": [
    "class Smartphone():\n",
    "    \n",
    "    def __init__(self):\n",
    "        self.tamanho = 10\n",
    "        self.interface = \"Android\"\n",
    "        print('Classe Smartphone')"
   ],
   "metadata": {
    "collapsed": false,
    "ExecuteTime": {
     "end_time": "2023-12-21T00:51:25.903986500Z",
     "start_time": "2023-12-21T00:51:25.895678500Z"
    }
   },
   "id": "f38b6c25bd56319d"
  },
  {
   "cell_type": "code",
   "execution_count": 19,
   "outputs": [],
   "source": [
    "class mp3Player(Smartphone):\n",
    "    \n",
    "    def __init__(self):\n",
    "        Smartphone.__init__(self)\n",
    "        self.capacidade = '120 GB'"
   ],
   "metadata": {
    "collapsed": false,
    "ExecuteTime": {
     "end_time": "2023-12-21T00:51:28.745712700Z",
     "start_time": "2023-12-21T00:51:28.740276600Z"
    }
   },
   "id": "65e81d8897490fa5"
  },
  {
   "cell_type": "code",
   "execution_count": 20,
   "outputs": [
    {
     "name": "stdout",
     "output_type": "stream",
     "text": [
      "Classe Smartphone\n"
     ]
    }
   ],
   "source": [
    "aparelho = mp3Player()"
   ],
   "metadata": {
    "collapsed": false,
    "ExecuteTime": {
     "end_time": "2023-12-21T00:51:30.140371200Z",
     "start_time": "2023-12-21T00:51:30.137661800Z"
    }
   },
   "id": "72831ceef410b469"
  },
  {
   "cell_type": "code",
   "execution_count": 21,
   "outputs": [
    {
     "name": "stdout",
     "output_type": "stream",
     "text": [
      "120 GB\n",
      "10\n",
      "Android\n"
     ]
    }
   ],
   "source": [
    "print(aparelho.capacidade)\n",
    "print(aparelho.tamanho)\n",
    "print(aparelho.interface)"
   ],
   "metadata": {
    "collapsed": false,
    "ExecuteTime": {
     "end_time": "2023-12-21T00:51:31.664459200Z",
     "start_time": "2023-12-21T00:51:31.661335500Z"
    }
   },
   "id": "503a9707cc863110"
  },
  {
   "cell_type": "code",
   "execution_count": null,
   "outputs": [],
   "source": [],
   "metadata": {
    "collapsed": false
   },
   "id": "689fd31a5e39d8d6"
  }
 ],
 "metadata": {
  "kernelspec": {
   "display_name": "Python 3",
   "language": "python",
   "name": "python3"
  },
  "language_info": {
   "codemirror_mode": {
    "name": "ipython",
    "version": 2
   },
   "file_extension": ".py",
   "mimetype": "text/x-python",
   "name": "python",
   "nbconvert_exporter": "python",
   "pygments_lexer": "ipython2",
   "version": "2.7.6"
  }
 },
 "nbformat": 4,
 "nbformat_minor": 5
}
